{
 "cells": [
  {
   "cell_type": "markdown",
   "id": "e126284f",
   "metadata": {},
   "source": [
    "                                                    *ЗАДАЧА РЕГРЕССИИ*"
   ]
  },
  {
   "cell_type": "code",
   "execution_count": 1,
   "id": "4e7539ec",
   "metadata": {},
   "outputs": [],
   "source": [
    "from utils import path_setup\n",
    "path_setup()\n",
    "from src.paths import PROCESSED_DATA\n",
    "import pandas as pd\n",
    "import os\n",
    "\n",
    "\n"
   ]
  },
  {
   "cell_type": "code",
   "execution_count": 2,
   "id": "545eee6b",
   "metadata": {},
   "outputs": [
    {
     "data": {
      "application/vnd.microsoft.datawrangler.viewer.v0+json": {
       "columns": [
        {
         "name": "index",
         "rawType": "int64",
         "type": "integer"
        },
        {
         "name": "Layer",
         "rawType": "int64",
         "type": "integer"
        },
        {
         "name": "Amp",
         "rawType": "float64",
         "type": "float"
        },
        {
         "name": "FreQ",
         "rawType": "float64",
         "type": "float"
        },
        {
         "name": "e",
         "rawType": "float64",
         "type": "float"
        },
        {
         "name": "h",
         "rawType": "float64",
         "type": "float"
        },
        {
         "name": "Optimal",
         "rawType": "int64",
         "type": "integer"
        }
       ],
       "ref": "e96767ec-a074-42d4-b64b-03e1a246855d",
       "rows": [
        [
         "0",
         "4",
         "6.0",
         "2.0",
         "12.2",
         "0.9",
         "1"
        ],
        [
         "1",
         "5",
         "6.0",
         "1.5",
         "12.6",
         "2.0",
         "1"
        ],
        [
         "2",
         "6",
         "6.0",
         "1.0",
         "14.1",
         "1.7",
         "0"
        ],
        [
         "4",
         "8",
         "5.0",
         "2.0",
         "13.6",
         "1.3",
         "0"
        ],
        [
         "5",
         "9",
         "5.0",
         "1.6",
         "11.8",
         "1.6",
         "0"
        ],
        [
         "6",
         "10",
         "5.0",
         "1.2",
         "11.8",
         "1.3",
         "0"
        ],
        [
         "7",
         "4",
         "6.0",
         "1.2",
         "12.9",
         "0.4",
         "0"
        ],
        [
         "8",
         "5",
         "6.0",
         "1.4",
         "13.0",
         "2.0",
         "0"
        ],
        [
         "9",
         "6",
         "6.0",
         "1.6",
         "13.0",
         "1.6",
         "0"
        ],
        [
         "10",
         "7",
         "6.0",
         "1.8",
         "13.0",
         "2.1",
         "0"
        ],
        [
         "11",
         "8",
         "5.0",
         "1.2",
         "13.0",
         "1.3",
         "0"
        ],
        [
         "12",
         "9",
         "5.0",
         "1.4",
         "12.9",
         "0.9",
         "0"
        ],
        [
         "13",
         "10",
         "5.0",
         "1.6",
         "12.8",
         "1.4",
         "0"
        ],
        [
         "14",
         "11",
         "5.0",
         "1.8",
         "12.9",
         "2.5",
         "0"
        ],
        [
         "15",
         "12",
         "5.0",
         "2.0",
         "11.9",
         "1.0",
         "0"
        ],
        [
         "16",
         "4",
         "5.0",
         "2.0",
         "10.5",
         "1.2",
         "1"
        ],
        [
         "17",
         "5",
         "5.0",
         "1.7",
         "10.9",
         "2.0",
         "1"
        ],
        [
         "18",
         "6",
         "5.0",
         "1.4",
         "11.4",
         "0.8",
         "0"
        ],
        [
         "19",
         "7",
         "4.0",
         "1.4",
         "10.7",
         "2.4",
         "0"
        ],
        [
         "20",
         "8",
         "4.0",
         "1.7",
         "11.0",
         "1.4",
         "1"
        ],
        [
         "21",
         "9",
         "4.0",
         "2.0",
         "8.0",
         "1.2",
         "1"
        ],
        [
         "22",
         "4",
         "6.0",
         "2.0",
         "12.0",
         "0.9",
         "1"
        ],
        [
         "23",
         "5",
         "6.0",
         "2.3",
         "11.9",
         "2.1",
         "0"
        ],
        [
         "28",
         "4",
         "3.5",
         "2.0",
         "7.8",
         "1.9",
         "1"
        ],
        [
         "29",
         "5",
         "3.5",
         "1.8",
         "7.4",
         "3.6",
         "1"
        ],
        [
         "30",
         "6",
         "3.5",
         "1.6",
         "7.5",
         "2.4",
         "1"
        ],
        [
         "31",
         "7",
         "2.5",
         "1.6",
         "5.8",
         "1.5",
         "0"
        ],
        [
         "32",
         "8",
         "2.5",
         "1.8",
         "5.5",
         "2.5",
         "0"
        ],
        [
         "33",
         "9",
         "2.5",
         "2.0",
         "5.4",
         "2.0",
         "0"
        ],
        [
         "34",
         "4",
         "6.5",
         "1.6",
         "13.2",
         "1.0",
         "0"
        ],
        [
         "35",
         "5",
         "6.5",
         "1.8",
         "13.7",
         "2.0",
         "0"
        ],
        [
         "36",
         "6",
         "6.5",
         "2.0",
         "13.4",
         "0.9",
         "0"
        ],
        [
         "37",
         "4",
         "5.5",
         "2.2",
         "11.2",
         "1.5",
         "1"
        ],
        [
         "38",
         "5",
         "4.5",
         "2.2",
         "10.4",
         "2.2",
         "0"
        ],
        [
         "40",
         "7",
         "3.5",
         "2.2",
         "7.7",
         "2.2",
         "1"
        ],
        [
         "43",
         "4",
         "5.0",
         "1.5",
         "11.0",
         "1.7",
         "1"
        ],
        [
         "44",
         "5",
         "4.8",
         "1.6",
         "11.1",
         "1.8",
         "1"
        ],
        [
         "45",
         "6",
         "3.6",
         "1.5",
         "9.5",
         "2.1",
         "1"
        ],
        [
         "46",
         "4",
         "5.5",
         "1.8",
         "11.4",
         "1.5",
         "1"
        ],
        [
         "47",
         "5",
         "5.5",
         "1.8",
         "11.9",
         "1.8",
         "1"
        ],
        [
         "48",
         "6",
         "5.5",
         "1.8",
         "12.1",
         "1.4",
         "1"
        ],
        [
         "49",
         "7",
         "5.5",
         "1.8",
         "12.3",
         "1.9",
         "0"
        ],
        [
         "50",
         "8",
         "5.5",
         "1.8",
         "12.4",
         "1.5",
         "0"
        ],
        [
         "51",
         "9",
         "5.5",
         "1.8",
         "12.4",
         "1.4",
         "0"
        ],
        [
         "52",
         "4",
         "4.8",
         "1.9",
         "10.4",
         "1.9",
         "1"
        ],
        [
         "53",
         "5",
         "4.5",
         "1.8",
         "10.3",
         "1.2",
         "1"
        ],
        [
         "54",
         "6",
         "4.5",
         "1.8",
         "10.4",
         "1.9",
         "0"
        ],
        [
         "55",
         "7",
         "4.5",
         "1.8",
         "10.3",
         "1.5",
         "0"
        ],
        [
         "56",
         "8",
         "4.5",
         "1.8",
         "10.2",
         "2.0",
         "0"
        ],
        [
         "57",
         "4",
         "5.5",
         "1.8",
         null,
         null,
         "1"
        ]
       ],
       "shape": {
        "columns": 6,
        "rows": 66
       }
      },
      "text/html": [
       "<div>\n",
       "<style scoped>\n",
       "    .dataframe tbody tr th:only-of-type {\n",
       "        vertical-align: middle;\n",
       "    }\n",
       "\n",
       "    .dataframe tbody tr th {\n",
       "        vertical-align: top;\n",
       "    }\n",
       "\n",
       "    .dataframe thead th {\n",
       "        text-align: right;\n",
       "    }\n",
       "</style>\n",
       "<table border=\"1\" class=\"dataframe\">\n",
       "  <thead>\n",
       "    <tr style=\"text-align: right;\">\n",
       "      <th></th>\n",
       "      <th>Layer</th>\n",
       "      <th>Amp</th>\n",
       "      <th>FreQ</th>\n",
       "      <th>e</th>\n",
       "      <th>h</th>\n",
       "      <th>Optimal</th>\n",
       "    </tr>\n",
       "  </thead>\n",
       "  <tbody>\n",
       "    <tr>\n",
       "      <th>0</th>\n",
       "      <td>4</td>\n",
       "      <td>6.0</td>\n",
       "      <td>2.0</td>\n",
       "      <td>12.2</td>\n",
       "      <td>0.9</td>\n",
       "      <td>1</td>\n",
       "    </tr>\n",
       "    <tr>\n",
       "      <th>1</th>\n",
       "      <td>5</td>\n",
       "      <td>6.0</td>\n",
       "      <td>1.5</td>\n",
       "      <td>12.6</td>\n",
       "      <td>2.0</td>\n",
       "      <td>1</td>\n",
       "    </tr>\n",
       "    <tr>\n",
       "      <th>2</th>\n",
       "      <td>6</td>\n",
       "      <td>6.0</td>\n",
       "      <td>1.0</td>\n",
       "      <td>14.1</td>\n",
       "      <td>1.7</td>\n",
       "      <td>0</td>\n",
       "    </tr>\n",
       "    <tr>\n",
       "      <th>4</th>\n",
       "      <td>8</td>\n",
       "      <td>5.0</td>\n",
       "      <td>2.0</td>\n",
       "      <td>13.6</td>\n",
       "      <td>1.3</td>\n",
       "      <td>0</td>\n",
       "    </tr>\n",
       "    <tr>\n",
       "      <th>5</th>\n",
       "      <td>9</td>\n",
       "      <td>5.0</td>\n",
       "      <td>1.6</td>\n",
       "      <td>11.8</td>\n",
       "      <td>1.6</td>\n",
       "      <td>0</td>\n",
       "    </tr>\n",
       "    <tr>\n",
       "      <th>...</th>\n",
       "      <td>...</td>\n",
       "      <td>...</td>\n",
       "      <td>...</td>\n",
       "      <td>...</td>\n",
       "      <td>...</td>\n",
       "      <td>...</td>\n",
       "    </tr>\n",
       "    <tr>\n",
       "      <th>69</th>\n",
       "      <td>7</td>\n",
       "      <td>4.9</td>\n",
       "      <td>1.8</td>\n",
       "      <td>NaN</td>\n",
       "      <td>NaN</td>\n",
       "      <td>0</td>\n",
       "    </tr>\n",
       "    <tr>\n",
       "      <th>70</th>\n",
       "      <td>4</td>\n",
       "      <td>5.4</td>\n",
       "      <td>1.7</td>\n",
       "      <td>NaN</td>\n",
       "      <td>NaN</td>\n",
       "      <td>1</td>\n",
       "    </tr>\n",
       "    <tr>\n",
       "      <th>71</th>\n",
       "      <td>5</td>\n",
       "      <td>5.4</td>\n",
       "      <td>1.7</td>\n",
       "      <td>NaN</td>\n",
       "      <td>NaN</td>\n",
       "      <td>1</td>\n",
       "    </tr>\n",
       "    <tr>\n",
       "      <th>72</th>\n",
       "      <td>6</td>\n",
       "      <td>5.4</td>\n",
       "      <td>1.7</td>\n",
       "      <td>NaN</td>\n",
       "      <td>NaN</td>\n",
       "      <td>0</td>\n",
       "    </tr>\n",
       "    <tr>\n",
       "      <th>73</th>\n",
       "      <td>7</td>\n",
       "      <td>5.4</td>\n",
       "      <td>1.7</td>\n",
       "      <td>NaN</td>\n",
       "      <td>NaN</td>\n",
       "      <td>0</td>\n",
       "    </tr>\n",
       "  </tbody>\n",
       "</table>\n",
       "<p>66 rows × 6 columns</p>\n",
       "</div>"
      ],
      "text/plain": [
       "    Layer  Amp  FreQ     e    h  Optimal\n",
       "0       4  6.0   2.0  12.2  0.9        1\n",
       "1       5  6.0   1.5  12.6  2.0        1\n",
       "2       6  6.0   1.0  14.1  1.7        0\n",
       "4       8  5.0   2.0  13.6  1.3        0\n",
       "5       9  5.0   1.6  11.8  1.6        0\n",
       "..    ...  ...   ...   ...  ...      ...\n",
       "69      7  4.9   1.8   NaN  NaN        0\n",
       "70      4  5.4   1.7   NaN  NaN        1\n",
       "71      5  5.4   1.7   NaN  NaN        1\n",
       "72      6  5.4   1.7   NaN  NaN        0\n",
       "73      7  5.4   1.7   NaN  NaN        0\n",
       "\n",
       "[66 rows x 6 columns]"
      ]
     },
     "execution_count": 2,
     "metadata": {},
     "output_type": "execute_result"
    }
   ],
   "source": [
    "path=os.path.join(PROCESSED_DATA,\"prepaired_data.csv\")\n",
    "\n",
    "df = pd.read_csv(path, index_col=0)\n",
    "df"
   ]
  },
  {
   "cell_type": "code",
   "execution_count": 3,
   "id": "98f4d491",
   "metadata": {},
   "outputs": [
    {
     "data": {
      "application/vnd.microsoft.datawrangler.viewer.v0+json": {
       "columns": [
        {
         "name": "index",
         "rawType": "object",
         "type": "string"
        },
        {
         "name": "Layer",
         "rawType": "float64",
         "type": "float"
        },
        {
         "name": "Amp",
         "rawType": "float64",
         "type": "float"
        },
        {
         "name": "FreQ",
         "rawType": "float64",
         "type": "float"
        },
        {
         "name": "e",
         "rawType": "float64",
         "type": "float"
        },
        {
         "name": "h",
         "rawType": "float64",
         "type": "float"
        },
        {
         "name": "Optimal",
         "rawType": "float64",
         "type": "float"
        }
       ],
       "ref": "5b559705-ae0a-4037-bca4-a2f25780af51",
       "rows": [
        [
         "count",
         "66.0",
         "66.0",
         "66.0",
         "49.0",
         "49.0",
         "66.0"
        ],
        [
         "mean",
         "6.2727272727272725",
         "4.9378787878787875",
         "1.746969696969697",
         "11.0734693877551",
         "1.6591836734693879",
         "0.4393939393939394"
        ],
        [
         "std",
         "1.9575923559739992",
         "0.9132806715799832",
         "0.24445839474214578",
         "2.1854419375918077",
         "0.5652869357484668",
         "0.5001165365357859"
        ],
        [
         "min",
         "4.0",
         "2.5",
         "1.0",
         "5.4",
         "0.4",
         "0.0"
        ],
        [
         "25%",
         "5.0",
         "4.5",
         "1.6",
         "10.4",
         "1.3",
         "0.0"
        ],
        [
         "50%",
         "6.0",
         "5.0",
         "1.8",
         "11.8",
         "1.6",
         "0.0"
        ],
        [
         "75%",
         "7.75",
         "5.5",
         "1.8",
         "12.8",
         "2.0",
         "1.0"
        ],
        [
         "max",
         "12.0",
         "6.5",
         "2.3",
         "14.1",
         "3.6",
         "1.0"
        ]
       ],
       "shape": {
        "columns": 6,
        "rows": 8
       }
      },
      "text/html": [
       "<div>\n",
       "<style scoped>\n",
       "    .dataframe tbody tr th:only-of-type {\n",
       "        vertical-align: middle;\n",
       "    }\n",
       "\n",
       "    .dataframe tbody tr th {\n",
       "        vertical-align: top;\n",
       "    }\n",
       "\n",
       "    .dataframe thead th {\n",
       "        text-align: right;\n",
       "    }\n",
       "</style>\n",
       "<table border=\"1\" class=\"dataframe\">\n",
       "  <thead>\n",
       "    <tr style=\"text-align: right;\">\n",
       "      <th></th>\n",
       "      <th>Layer</th>\n",
       "      <th>Amp</th>\n",
       "      <th>FreQ</th>\n",
       "      <th>e</th>\n",
       "      <th>h</th>\n",
       "      <th>Optimal</th>\n",
       "    </tr>\n",
       "  </thead>\n",
       "  <tbody>\n",
       "    <tr>\n",
       "      <th>count</th>\n",
       "      <td>66.000000</td>\n",
       "      <td>66.000000</td>\n",
       "      <td>66.000000</td>\n",
       "      <td>49.000000</td>\n",
       "      <td>49.000000</td>\n",
       "      <td>66.000000</td>\n",
       "    </tr>\n",
       "    <tr>\n",
       "      <th>mean</th>\n",
       "      <td>6.272727</td>\n",
       "      <td>4.937879</td>\n",
       "      <td>1.746970</td>\n",
       "      <td>11.073469</td>\n",
       "      <td>1.659184</td>\n",
       "      <td>0.439394</td>\n",
       "    </tr>\n",
       "    <tr>\n",
       "      <th>std</th>\n",
       "      <td>1.957592</td>\n",
       "      <td>0.913281</td>\n",
       "      <td>0.244458</td>\n",
       "      <td>2.185442</td>\n",
       "      <td>0.565287</td>\n",
       "      <td>0.500117</td>\n",
       "    </tr>\n",
       "    <tr>\n",
       "      <th>min</th>\n",
       "      <td>4.000000</td>\n",
       "      <td>2.500000</td>\n",
       "      <td>1.000000</td>\n",
       "      <td>5.400000</td>\n",
       "      <td>0.400000</td>\n",
       "      <td>0.000000</td>\n",
       "    </tr>\n",
       "    <tr>\n",
       "      <th>25%</th>\n",
       "      <td>5.000000</td>\n",
       "      <td>4.500000</td>\n",
       "      <td>1.600000</td>\n",
       "      <td>10.400000</td>\n",
       "      <td>1.300000</td>\n",
       "      <td>0.000000</td>\n",
       "    </tr>\n",
       "    <tr>\n",
       "      <th>50%</th>\n",
       "      <td>6.000000</td>\n",
       "      <td>5.000000</td>\n",
       "      <td>1.800000</td>\n",
       "      <td>11.800000</td>\n",
       "      <td>1.600000</td>\n",
       "      <td>0.000000</td>\n",
       "    </tr>\n",
       "    <tr>\n",
       "      <th>75%</th>\n",
       "      <td>7.750000</td>\n",
       "      <td>5.500000</td>\n",
       "      <td>1.800000</td>\n",
       "      <td>12.800000</td>\n",
       "      <td>2.000000</td>\n",
       "      <td>1.000000</td>\n",
       "    </tr>\n",
       "    <tr>\n",
       "      <th>max</th>\n",
       "      <td>12.000000</td>\n",
       "      <td>6.500000</td>\n",
       "      <td>2.300000</td>\n",
       "      <td>14.100000</td>\n",
       "      <td>3.600000</td>\n",
       "      <td>1.000000</td>\n",
       "    </tr>\n",
       "  </tbody>\n",
       "</table>\n",
       "</div>"
      ],
      "text/plain": [
       "           Layer        Amp       FreQ          e          h    Optimal\n",
       "count  66.000000  66.000000  66.000000  49.000000  49.000000  66.000000\n",
       "mean    6.272727   4.937879   1.746970  11.073469   1.659184   0.439394\n",
       "std     1.957592   0.913281   0.244458   2.185442   0.565287   0.500117\n",
       "min     4.000000   2.500000   1.000000   5.400000   0.400000   0.000000\n",
       "25%     5.000000   4.500000   1.600000  10.400000   1.300000   0.000000\n",
       "50%     6.000000   5.000000   1.800000  11.800000   1.600000   0.000000\n",
       "75%     7.750000   5.500000   1.800000  12.800000   2.000000   1.000000\n",
       "max    12.000000   6.500000   2.300000  14.100000   3.600000   1.000000"
      ]
     },
     "execution_count": 3,
     "metadata": {},
     "output_type": "execute_result"
    }
   ],
   "source": [
    "df.describe()"
   ]
  },
  {
   "cell_type": "code",
   "execution_count": 4,
   "id": "54c8602a",
   "metadata": {},
   "outputs": [
    {
     "data": {
      "application/vnd.microsoft.datawrangler.viewer.v0+json": {
       "columns": [
        {
         "name": "index",
         "rawType": "object",
         "type": "string"
        },
        {
         "name": "count",
         "rawType": "float64",
         "type": "float"
        },
        {
         "name": "mean",
         "rawType": "float64",
         "type": "float"
        },
        {
         "name": "std",
         "rawType": "float64",
         "type": "float"
        },
        {
         "name": "min",
         "rawType": "float64",
         "type": "float"
        },
        {
         "name": "25%",
         "rawType": "float64",
         "type": "float"
        },
        {
         "name": "50%",
         "rawType": "float64",
         "type": "float"
        },
        {
         "name": "75%",
         "rawType": "float64",
         "type": "float"
        },
        {
         "name": "max",
         "rawType": "float64",
         "type": "float"
        }
       ],
       "ref": "aadec477-610b-45b3-8b8e-d2abe92959a4",
       "rows": [
        [
         "Amp",
         "49.0",
         "4.922448979591836",
         "1.0332524107001575",
         "2.5",
         "4.5",
         "5.0",
         "5.5",
         "6.5"
        ],
        [
         "FreQ",
         "49.0",
         "1.736734693877551",
         "0.28261714204837585",
         "1.0",
         "1.6",
         "1.8",
         "2.0",
         "2.3"
        ],
        [
         "e",
         "49.0",
         "11.073469387755106",
         "2.1854419375918077",
         "5.4",
         "10.4",
         "11.8",
         "12.8",
         "14.1"
        ],
        [
         "h",
         "49.0",
         "1.6591836734693879",
         "0.5652869357484668",
         "0.4",
         "1.3",
         "1.6",
         "2.0",
         "3.6"
        ]
       ],
       "shape": {
        "columns": 8,
        "rows": 4
       }
      },
      "text/html": [
       "<div>\n",
       "<style scoped>\n",
       "    .dataframe tbody tr th:only-of-type {\n",
       "        vertical-align: middle;\n",
       "    }\n",
       "\n",
       "    .dataframe tbody tr th {\n",
       "        vertical-align: top;\n",
       "    }\n",
       "\n",
       "    .dataframe thead th {\n",
       "        text-align: right;\n",
       "    }\n",
       "</style>\n",
       "<table border=\"1\" class=\"dataframe\">\n",
       "  <thead>\n",
       "    <tr style=\"text-align: right;\">\n",
       "      <th></th>\n",
       "      <th>count</th>\n",
       "      <th>mean</th>\n",
       "      <th>std</th>\n",
       "      <th>min</th>\n",
       "      <th>25%</th>\n",
       "      <th>50%</th>\n",
       "      <th>75%</th>\n",
       "      <th>max</th>\n",
       "    </tr>\n",
       "  </thead>\n",
       "  <tbody>\n",
       "    <tr>\n",
       "      <th>Amp</th>\n",
       "      <td>49.0</td>\n",
       "      <td>4.922449</td>\n",
       "      <td>1.033252</td>\n",
       "      <td>2.5</td>\n",
       "      <td>4.5</td>\n",
       "      <td>5.0</td>\n",
       "      <td>5.5</td>\n",
       "      <td>6.5</td>\n",
       "    </tr>\n",
       "    <tr>\n",
       "      <th>FreQ</th>\n",
       "      <td>49.0</td>\n",
       "      <td>1.736735</td>\n",
       "      <td>0.282617</td>\n",
       "      <td>1.0</td>\n",
       "      <td>1.6</td>\n",
       "      <td>1.8</td>\n",
       "      <td>2.0</td>\n",
       "      <td>2.3</td>\n",
       "    </tr>\n",
       "    <tr>\n",
       "      <th>e</th>\n",
       "      <td>49.0</td>\n",
       "      <td>11.073469</td>\n",
       "      <td>2.185442</td>\n",
       "      <td>5.4</td>\n",
       "      <td>10.4</td>\n",
       "      <td>11.8</td>\n",
       "      <td>12.8</td>\n",
       "      <td>14.1</td>\n",
       "    </tr>\n",
       "    <tr>\n",
       "      <th>h</th>\n",
       "      <td>49.0</td>\n",
       "      <td>1.659184</td>\n",
       "      <td>0.565287</td>\n",
       "      <td>0.4</td>\n",
       "      <td>1.3</td>\n",
       "      <td>1.6</td>\n",
       "      <td>2.0</td>\n",
       "      <td>3.6</td>\n",
       "    </tr>\n",
       "  </tbody>\n",
       "</table>\n",
       "</div>"
      ],
      "text/plain": [
       "      count       mean       std  min   25%   50%   75%   max\n",
       "Amp    49.0   4.922449  1.033252  2.5   4.5   5.0   5.5   6.5\n",
       "FreQ   49.0   1.736735  0.282617  1.0   1.6   1.8   2.0   2.3\n",
       "e      49.0  11.073469  2.185442  5.4  10.4  11.8  12.8  14.1\n",
       "h      49.0   1.659184  0.565287  0.4   1.3   1.6   2.0   3.6"
      ]
     },
     "execution_count": 4,
     "metadata": {},
     "output_type": "execute_result"
    }
   ],
   "source": [
    "df = df.drop(columns=[\"Layer\",\"Optimal\"], errors=\"ignore\")\n",
    "df = df.dropna(axis=0)\n",
    "df.describe().T"
   ]
  },
  {
   "cell_type": "code",
   "execution_count": 5,
   "id": "56d5329d",
   "metadata": {},
   "outputs": [],
   "source": [
    "from sklearn.model_selection import train_test_split\n",
    "\n",
    "\n",
    "y=df[\"e\"]\n",
    "features = [\"Amp\",\"FreQ\"]\n",
    "X = df[features]\n",
    "\n",
    "X_train, X_test, y_train, y_test = train_test_split(X, y, \n",
    "                                                    train_size=0.8, \n",
    "                                                    test_size=0.2, \n",
    "                                                    random_state=13)\n",
    "\n",
    "\n",
    "\n",
    "\n"
   ]
  },
  {
   "cell_type": "code",
   "execution_count": 8,
   "id": "1e3a7b46",
   "metadata": {},
   "outputs": [
    {
     "name": "stdout",
     "output_type": "stream",
     "text": [
      "Requirement already satisfied: setuptools<81 in /Users/iplotnikow/WorkSpace/github.com/iaPlotnikovv/DS_Diploma/.venv/lib/python3.12/site-packages (80.9.0)\n"
     ]
    }
   ],
   "source": [
    "!pip install \"setuptools<81\""
   ]
  },
  {
   "cell_type": "code",
   "execution_count": 9,
   "id": "091bf46f",
   "metadata": {},
   "outputs": [
    {
     "name": "stdout",
     "output_type": "stream",
     "text": [
      "Результат для линейной регрессии:\n",
      "\n"
     ]
    },
    {
     "name": "stderr",
     "output_type": "stream",
     "text": [
      "/opt/homebrew/Cellar/python@3.12/3.12.8/Frameworks/Python.framework/Versions/3.12/lib/python3.12/multiprocessing/queues.py:122: UserWarning: pkg_resources is deprecated as an API. See https://setuptools.pypa.io/en/latest/pkg_resources.html. The pkg_resources package is slated for removal as early as 2025-11-30. Refrain from using this package or pin to Setuptools<81.\n",
      "  return _ForkingPickler.loads(res)\n",
      "/opt/homebrew/Cellar/python@3.12/3.12.8/Frameworks/Python.framework/Versions/3.12/lib/python3.12/multiprocessing/queues.py:122: UserWarning: pkg_resources is deprecated as an API. See https://setuptools.pypa.io/en/latest/pkg_resources.html. The pkg_resources package is slated for removal as early as 2025-11-30. Refrain from using this package or pin to Setuptools<81.\n",
      "  return _ForkingPickler.loads(res)\n",
      "/opt/homebrew/Cellar/python@3.12/3.12.8/Frameworks/Python.framework/Versions/3.12/lib/python3.12/multiprocessing/queues.py:122: UserWarning: pkg_resources is deprecated as an API. See https://setuptools.pypa.io/en/latest/pkg_resources.html. The pkg_resources package is slated for removal as early as 2025-11-30. Refrain from using this package or pin to Setuptools<81.\n",
      "  return _ForkingPickler.loads(res)\n",
      "/opt/homebrew/Cellar/python@3.12/3.12.8/Frameworks/Python.framework/Versions/3.12/lib/python3.12/multiprocessing/queues.py:122: UserWarning: pkg_resources is deprecated as an API. See https://setuptools.pypa.io/en/latest/pkg_resources.html. The pkg_resources package is slated for removal as early as 2025-11-30. Refrain from using this package or pin to Setuptools<81.\n",
      "  return _ForkingPickler.loads(res)\n",
      "/opt/homebrew/Cellar/python@3.12/3.12.8/Frameworks/Python.framework/Versions/3.12/lib/python3.12/multiprocessing/queues.py:122: UserWarning: pkg_resources is deprecated as an API. See https://setuptools.pypa.io/en/latest/pkg_resources.html. The pkg_resources package is slated for removal as early as 2025-11-30. Refrain from using this package or pin to Setuptools<81.\n",
      "  return _ForkingPickler.loads(res)\n",
      "/opt/homebrew/Cellar/python@3.12/3.12.8/Frameworks/Python.framework/Versions/3.12/lib/python3.12/multiprocessing/queues.py:122: UserWarning: pkg_resources is deprecated as an API. See https://setuptools.pypa.io/en/latest/pkg_resources.html. The pkg_resources package is slated for removal as early as 2025-11-30. Refrain from using this package or pin to Setuptools<81.\n",
      "  return _ForkingPickler.loads(res)\n",
      "/opt/homebrew/Cellar/python@3.12/3.12.8/Frameworks/Python.framework/Versions/3.12/lib/python3.12/multiprocessing/queues.py:122: UserWarning: pkg_resources is deprecated as an API. See https://setuptools.pypa.io/en/latest/pkg_resources.html. The pkg_resources package is slated for removal as early as 2025-11-30. Refrain from using this package or pin to Setuptools<81.\n",
      "  return _ForkingPickler.loads(res)\n",
      "/opt/homebrew/Cellar/python@3.12/3.12.8/Frameworks/Python.framework/Versions/3.12/lib/python3.12/multiprocessing/queues.py:122: UserWarning: pkg_resources is deprecated as an API. See https://setuptools.pypa.io/en/latest/pkg_resources.html. The pkg_resources package is slated for removal as early as 2025-11-30. Refrain from using this package or pin to Setuptools<81.\n",
      "  return _ForkingPickler.loads(res)\n"
     ]
    },
    {
     "name": "stdout",
     "output_type": "stream",
     "text": [
      "Cross-validation Average MAE: 0.66\n",
      "\n",
      "MAE: 0.63\n",
      "RMSE: 0.75\n",
      "Коэффициент детерминации: 0.90\n",
      "\n",
      "Результат для случайного леса:\n",
      "\n",
      "Cross-validation Average MAE: 0.76\n",
      "\n",
      "MAE: 0.44\n",
      "RMSE: 0.82\n",
      "Коэффициент детерминации: 0.88\n",
      "\n"
     ]
    }
   ],
   "source": [
    "\n",
    "from sklearn.linear_model import LinearRegression\n",
    "from sklearn.preprocessing import StandardScaler\n",
    "from sklearn.model_selection import LeaveOneOut\n",
    "from sklearn.ensemble import RandomForestRegressor\n",
    "from src.modeling.pipe_construct import PipeConstruct\n",
    "\n",
    "\n",
    "loo = LeaveOneOut() # Назначение метода кросс-валидации\n",
    "\n",
    "# Пайплайн с LinearRegressor\n",
    "pipe_linreg = PipeConstruct(\n",
    "    set_scaler=StandardScaler(),\n",
    "    set_model=LinearRegression()\n",
    ")\n",
    "\n",
    "# Пайплайн с RandomForestRegressor\n",
    "pipe_rf = PipeConstruct(\n",
    "    set_scaler=StandardScaler(),\n",
    "    set_model=RandomForestRegressor(n_estimators=7, random_state=0)\n",
    ")\n",
    "\n",
    "print(\"Результат для линейной регрессии:\\n\")\n",
    "pipe_linreg.cross_validation(X_train,y_train,cv=loo)\n",
    "pipe_linreg.fit(X_train, y_train)\n",
    "pipe_linreg.error_score(X_test,y_test)\n",
    "\n",
    "print(\"Результат для случайного леса:\\n\")\n",
    "pipe_rf.cross_validation(X_train,y_train,cv=loo)\n",
    "pipe_rf.fit(X_train, y_train)\n",
    "pipe_rf.error_score(X_test,y_test)\n"
   ]
  },
  {
   "cell_type": "code",
   "execution_count": null,
   "id": "ab766152",
   "metadata": {},
   "outputs": [],
   "source": []
  },
  {
   "cell_type": "code",
   "execution_count": null,
   "id": "429299cc",
   "metadata": {},
   "outputs": [],
   "source": [
    "from src.modeling.save_model import save_model\n",
    "\n",
    "save_model(pipe_linreg,\"regression.pkl\")"
   ]
  },
  {
   "cell_type": "code",
   "execution_count": null,
   "id": "97c63c7c",
   "metadata": {},
   "outputs": [],
   "source": []
  }
 ],
 "metadata": {
  "kernelspec": {
   "display_name": ".venv",
   "language": "python",
   "name": "python3"
  },
  "language_info": {
   "codemirror_mode": {
    "name": "ipython",
    "version": 3
   },
   "file_extension": ".py",
   "mimetype": "text/x-python",
   "name": "python",
   "nbconvert_exporter": "python",
   "pygments_lexer": "ipython3",
   "version": "3.12.8"
  }
 },
 "nbformat": 4,
 "nbformat_minor": 5
}
