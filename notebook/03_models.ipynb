{
 "cells": [
  {
   "cell_type": "code",
   "execution_count": 1,
   "id": "4e7539ec",
   "metadata": {},
   "outputs": [],
   "source": [
    "from utils import path_setup\n",
    "path_setup()\n",
    "from src.paths import PROCESSED_DATA\n",
    "import pandas as pd\n",
    "import os\n",
    "\n",
    "\n"
   ]
  },
  {
   "cell_type": "code",
   "execution_count": 2,
   "id": "545eee6b",
   "metadata": {},
   "outputs": [
    {
     "data": {
      "application/vnd.microsoft.datawrangler.viewer.v0+json": {
       "columns": [
        {
         "name": "index",
         "rawType": "int64",
         "type": "integer"
        },
        {
         "name": "Layer",
         "rawType": "int64",
         "type": "integer"
        },
        {
         "name": "Amp",
         "rawType": "float64",
         "type": "float"
        },
        {
         "name": "FreQ",
         "rawType": "float64",
         "type": "float"
        },
        {
         "name": "e",
         "rawType": "float64",
         "type": "float"
        },
        {
         "name": "h",
         "rawType": "float64",
         "type": "float"
        },
        {
         "name": "Optimal",
         "rawType": "int64",
         "type": "integer"
        }
       ],
       "ref": "66a48967-2b2c-487b-90e1-75c549870462",
       "rows": [
        [
         "0",
         "4",
         "6.0",
         "2.0",
         "12.2",
         "0.9",
         "1"
        ],
        [
         "1",
         "5",
         "6.0",
         "1.5",
         "12.6",
         "2.0",
         "1"
        ],
        [
         "2",
         "6",
         "6.0",
         "1.0",
         "14.1",
         "1.7",
         "0"
        ],
        [
         "4",
         "8",
         "5.0",
         "2.0",
         "13.6",
         "1.3",
         "0"
        ],
        [
         "5",
         "9",
         "5.0",
         "1.6",
         "11.8",
         "1.6",
         "0"
        ],
        [
         "6",
         "10",
         "5.0",
         "1.2",
         "11.8",
         "1.3",
         "0"
        ],
        [
         "7",
         "4",
         "6.0",
         "1.2",
         "12.9",
         "0.4",
         "0"
        ],
        [
         "8",
         "5",
         "6.0",
         "1.4",
         "13.0",
         "2.0",
         "0"
        ],
        [
         "9",
         "6",
         "6.0",
         "1.6",
         "13.0",
         "1.6",
         "0"
        ],
        [
         "10",
         "7",
         "6.0",
         "1.8",
         "13.0",
         "2.1",
         "0"
        ],
        [
         "11",
         "8",
         "5.0",
         "1.2",
         "13.0",
         "1.3",
         "0"
        ],
        [
         "12",
         "9",
         "5.0",
         "1.4",
         "12.9",
         "0.9",
         "0"
        ],
        [
         "13",
         "10",
         "5.0",
         "1.6",
         "12.8",
         "1.4",
         "0"
        ],
        [
         "14",
         "11",
         "5.0",
         "1.8",
         "12.9",
         "2.5",
         "0"
        ],
        [
         "15",
         "12",
         "5.0",
         "2.0",
         "11.9",
         "1.0",
         "0"
        ],
        [
         "16",
         "4",
         "5.0",
         "2.0",
         "10.5",
         "1.2",
         "1"
        ],
        [
         "17",
         "5",
         "5.0",
         "1.7",
         "10.9",
         "2.0",
         "1"
        ],
        [
         "18",
         "6",
         "5.0",
         "1.4",
         "11.4",
         "0.8",
         "0"
        ],
        [
         "19",
         "7",
         "4.0",
         "1.4",
         "10.7",
         "2.4",
         "0"
        ],
        [
         "20",
         "8",
         "4.0",
         "1.7",
         "11.0",
         "1.4",
         "1"
        ],
        [
         "21",
         "9",
         "4.0",
         "2.0",
         "8.0",
         "1.2",
         "1"
        ],
        [
         "22",
         "4",
         "6.0",
         "2.0",
         "12.0",
         "0.9",
         "1"
        ],
        [
         "23",
         "5",
         "6.0",
         "2.3",
         "11.9",
         "2.1",
         "0"
        ],
        [
         "28",
         "4",
         "3.5",
         "2.0",
         "7.8",
         "1.9",
         "1"
        ],
        [
         "29",
         "5",
         "3.5",
         "1.8",
         "7.4",
         "3.6",
         "1"
        ],
        [
         "30",
         "6",
         "3.5",
         "1.6",
         "7.5",
         "2.4",
         "1"
        ],
        [
         "31",
         "7",
         "2.5",
         "1.6",
         "5.8",
         "1.5",
         "0"
        ],
        [
         "32",
         "8",
         "2.5",
         "1.8",
         "5.5",
         "2.5",
         "0"
        ],
        [
         "33",
         "9",
         "2.5",
         "2.0",
         "5.4",
         "2.0",
         "0"
        ],
        [
         "34",
         "4",
         "6.5",
         "1.6",
         "13.2",
         "1.0",
         "0"
        ],
        [
         "35",
         "5",
         "6.5",
         "1.8",
         "13.7",
         "2.0",
         "0"
        ],
        [
         "36",
         "6",
         "6.5",
         "2.0",
         "13.4",
         "0.9",
         "0"
        ],
        [
         "37",
         "4",
         "5.5",
         "2.2",
         "11.2",
         "1.5",
         "1"
        ],
        [
         "38",
         "5",
         "4.5",
         "2.2",
         "10.4",
         "2.2",
         "0"
        ],
        [
         "40",
         "7",
         "3.5",
         "2.2",
         "7.7",
         "2.2",
         "1"
        ],
        [
         "43",
         "4",
         "5.0",
         "1.5",
         "11.0",
         "1.7",
         "1"
        ],
        [
         "44",
         "5",
         "4.8",
         "1.6",
         "11.1",
         "1.8",
         "1"
        ],
        [
         "45",
         "6",
         "3.6",
         "1.5",
         "9.5",
         "2.1",
         "1"
        ],
        [
         "46",
         "4",
         "5.5",
         "1.8",
         "11.4",
         "1.5",
         "1"
        ],
        [
         "47",
         "5",
         "5.5",
         "1.8",
         "11.9",
         "1.8",
         "1"
        ],
        [
         "48",
         "6",
         "5.5",
         "1.8",
         "12.1",
         "1.4",
         "1"
        ],
        [
         "49",
         "7",
         "5.5",
         "1.8",
         "12.3",
         "1.9",
         "0"
        ],
        [
         "50",
         "8",
         "5.5",
         "1.8",
         "12.4",
         "1.5",
         "0"
        ],
        [
         "51",
         "9",
         "5.5",
         "1.8",
         "12.4",
         "1.4",
         "0"
        ],
        [
         "52",
         "4",
         "4.8",
         "1.9",
         "10.4",
         "1.9",
         "1"
        ],
        [
         "53",
         "5",
         "4.5",
         "1.8",
         "10.3",
         "1.2",
         "1"
        ],
        [
         "54",
         "6",
         "4.5",
         "1.8",
         "10.4",
         "1.9",
         "0"
        ],
        [
         "55",
         "7",
         "4.5",
         "1.8",
         "10.3",
         "1.5",
         "0"
        ],
        [
         "56",
         "8",
         "4.5",
         "1.8",
         "10.2",
         "2.0",
         "0"
        ],
        [
         "57",
         "4",
         "5.5",
         "1.8",
         null,
         null,
         "1"
        ]
       ],
       "shape": {
        "columns": 6,
        "rows": 66
       }
      },
      "text/html": [
       "<div>\n",
       "<style scoped>\n",
       "    .dataframe tbody tr th:only-of-type {\n",
       "        vertical-align: middle;\n",
       "    }\n",
       "\n",
       "    .dataframe tbody tr th {\n",
       "        vertical-align: top;\n",
       "    }\n",
       "\n",
       "    .dataframe thead th {\n",
       "        text-align: right;\n",
       "    }\n",
       "</style>\n",
       "<table border=\"1\" class=\"dataframe\">\n",
       "  <thead>\n",
       "    <tr style=\"text-align: right;\">\n",
       "      <th></th>\n",
       "      <th>Layer</th>\n",
       "      <th>Amp</th>\n",
       "      <th>FreQ</th>\n",
       "      <th>e</th>\n",
       "      <th>h</th>\n",
       "      <th>Optimal</th>\n",
       "    </tr>\n",
       "  </thead>\n",
       "  <tbody>\n",
       "    <tr>\n",
       "      <th>0</th>\n",
       "      <td>4</td>\n",
       "      <td>6.0</td>\n",
       "      <td>2.0</td>\n",
       "      <td>12.2</td>\n",
       "      <td>0.9</td>\n",
       "      <td>1</td>\n",
       "    </tr>\n",
       "    <tr>\n",
       "      <th>1</th>\n",
       "      <td>5</td>\n",
       "      <td>6.0</td>\n",
       "      <td>1.5</td>\n",
       "      <td>12.6</td>\n",
       "      <td>2.0</td>\n",
       "      <td>1</td>\n",
       "    </tr>\n",
       "    <tr>\n",
       "      <th>2</th>\n",
       "      <td>6</td>\n",
       "      <td>6.0</td>\n",
       "      <td>1.0</td>\n",
       "      <td>14.1</td>\n",
       "      <td>1.7</td>\n",
       "      <td>0</td>\n",
       "    </tr>\n",
       "    <tr>\n",
       "      <th>4</th>\n",
       "      <td>8</td>\n",
       "      <td>5.0</td>\n",
       "      <td>2.0</td>\n",
       "      <td>13.6</td>\n",
       "      <td>1.3</td>\n",
       "      <td>0</td>\n",
       "    </tr>\n",
       "    <tr>\n",
       "      <th>5</th>\n",
       "      <td>9</td>\n",
       "      <td>5.0</td>\n",
       "      <td>1.6</td>\n",
       "      <td>11.8</td>\n",
       "      <td>1.6</td>\n",
       "      <td>0</td>\n",
       "    </tr>\n",
       "    <tr>\n",
       "      <th>...</th>\n",
       "      <td>...</td>\n",
       "      <td>...</td>\n",
       "      <td>...</td>\n",
       "      <td>...</td>\n",
       "      <td>...</td>\n",
       "      <td>...</td>\n",
       "    </tr>\n",
       "    <tr>\n",
       "      <th>69</th>\n",
       "      <td>7</td>\n",
       "      <td>4.9</td>\n",
       "      <td>1.8</td>\n",
       "      <td>NaN</td>\n",
       "      <td>NaN</td>\n",
       "      <td>0</td>\n",
       "    </tr>\n",
       "    <tr>\n",
       "      <th>70</th>\n",
       "      <td>4</td>\n",
       "      <td>5.4</td>\n",
       "      <td>1.7</td>\n",
       "      <td>NaN</td>\n",
       "      <td>NaN</td>\n",
       "      <td>1</td>\n",
       "    </tr>\n",
       "    <tr>\n",
       "      <th>71</th>\n",
       "      <td>5</td>\n",
       "      <td>5.4</td>\n",
       "      <td>1.7</td>\n",
       "      <td>NaN</td>\n",
       "      <td>NaN</td>\n",
       "      <td>1</td>\n",
       "    </tr>\n",
       "    <tr>\n",
       "      <th>72</th>\n",
       "      <td>6</td>\n",
       "      <td>5.4</td>\n",
       "      <td>1.7</td>\n",
       "      <td>NaN</td>\n",
       "      <td>NaN</td>\n",
       "      <td>0</td>\n",
       "    </tr>\n",
       "    <tr>\n",
       "      <th>73</th>\n",
       "      <td>7</td>\n",
       "      <td>5.4</td>\n",
       "      <td>1.7</td>\n",
       "      <td>NaN</td>\n",
       "      <td>NaN</td>\n",
       "      <td>0</td>\n",
       "    </tr>\n",
       "  </tbody>\n",
       "</table>\n",
       "<p>66 rows × 6 columns</p>\n",
       "</div>"
      ],
      "text/plain": [
       "    Layer  Amp  FreQ     e    h  Optimal\n",
       "0       4  6.0   2.0  12.2  0.9        1\n",
       "1       5  6.0   1.5  12.6  2.0        1\n",
       "2       6  6.0   1.0  14.1  1.7        0\n",
       "4       8  5.0   2.0  13.6  1.3        0\n",
       "5       9  5.0   1.6  11.8  1.6        0\n",
       "..    ...  ...   ...   ...  ...      ...\n",
       "69      7  4.9   1.8   NaN  NaN        0\n",
       "70      4  5.4   1.7   NaN  NaN        1\n",
       "71      5  5.4   1.7   NaN  NaN        1\n",
       "72      6  5.4   1.7   NaN  NaN        0\n",
       "73      7  5.4   1.7   NaN  NaN        0\n",
       "\n",
       "[66 rows x 6 columns]"
      ]
     },
     "execution_count": 2,
     "metadata": {},
     "output_type": "execute_result"
    }
   ],
   "source": [
    "path=os.path.join(PROCESSED_DATA,\"prepaired_data.csv\")\n",
    "\n",
    "df = pd.read_csv(path, index_col=0)\n",
    "df"
   ]
  },
  {
   "cell_type": "code",
   "execution_count": 3,
   "id": "54c8602a",
   "metadata": {},
   "outputs": [
    {
     "data": {
      "application/vnd.microsoft.datawrangler.viewer.v0+json": {
       "columns": [
        {
         "name": "index",
         "rawType": "object",
         "type": "string"
        },
        {
         "name": "count",
         "rawType": "float64",
         "type": "float"
        },
        {
         "name": "mean",
         "rawType": "float64",
         "type": "float"
        },
        {
         "name": "std",
         "rawType": "float64",
         "type": "float"
        },
        {
         "name": "min",
         "rawType": "float64",
         "type": "float"
        },
        {
         "name": "25%",
         "rawType": "float64",
         "type": "float"
        },
        {
         "name": "50%",
         "rawType": "float64",
         "type": "float"
        },
        {
         "name": "75%",
         "rawType": "float64",
         "type": "float"
        },
        {
         "name": "max",
         "rawType": "float64",
         "type": "float"
        }
       ],
       "ref": "f992893a-3cf8-4eeb-9985-622be4e35e72",
       "rows": [
        [
         "Amp",
         "49.0",
         "4.922448979591836",
         "1.0332524107001575",
         "2.5",
         "4.5",
         "5.0",
         "5.5",
         "6.5"
        ],
        [
         "FreQ",
         "49.0",
         "1.736734693877551",
         "0.28261714204837585",
         "1.0",
         "1.6",
         "1.8",
         "2.0",
         "2.3"
        ],
        [
         "e",
         "49.0",
         "11.073469387755106",
         "2.1854419375918077",
         "5.4",
         "10.4",
         "11.8",
         "12.8",
         "14.1"
        ],
        [
         "h",
         "49.0",
         "1.6591836734693879",
         "0.5652869357484668",
         "0.4",
         "1.3",
         "1.6",
         "2.0",
         "3.6"
        ]
       ],
       "shape": {
        "columns": 8,
        "rows": 4
       }
      },
      "text/html": [
       "<div>\n",
       "<style scoped>\n",
       "    .dataframe tbody tr th:only-of-type {\n",
       "        vertical-align: middle;\n",
       "    }\n",
       "\n",
       "    .dataframe tbody tr th {\n",
       "        vertical-align: top;\n",
       "    }\n",
       "\n",
       "    .dataframe thead th {\n",
       "        text-align: right;\n",
       "    }\n",
       "</style>\n",
       "<table border=\"1\" class=\"dataframe\">\n",
       "  <thead>\n",
       "    <tr style=\"text-align: right;\">\n",
       "      <th></th>\n",
       "      <th>count</th>\n",
       "      <th>mean</th>\n",
       "      <th>std</th>\n",
       "      <th>min</th>\n",
       "      <th>25%</th>\n",
       "      <th>50%</th>\n",
       "      <th>75%</th>\n",
       "      <th>max</th>\n",
       "    </tr>\n",
       "  </thead>\n",
       "  <tbody>\n",
       "    <tr>\n",
       "      <th>Amp</th>\n",
       "      <td>49.0</td>\n",
       "      <td>4.922449</td>\n",
       "      <td>1.033252</td>\n",
       "      <td>2.5</td>\n",
       "      <td>4.5</td>\n",
       "      <td>5.0</td>\n",
       "      <td>5.5</td>\n",
       "      <td>6.5</td>\n",
       "    </tr>\n",
       "    <tr>\n",
       "      <th>FreQ</th>\n",
       "      <td>49.0</td>\n",
       "      <td>1.736735</td>\n",
       "      <td>0.282617</td>\n",
       "      <td>1.0</td>\n",
       "      <td>1.6</td>\n",
       "      <td>1.8</td>\n",
       "      <td>2.0</td>\n",
       "      <td>2.3</td>\n",
       "    </tr>\n",
       "    <tr>\n",
       "      <th>e</th>\n",
       "      <td>49.0</td>\n",
       "      <td>11.073469</td>\n",
       "      <td>2.185442</td>\n",
       "      <td>5.4</td>\n",
       "      <td>10.4</td>\n",
       "      <td>11.8</td>\n",
       "      <td>12.8</td>\n",
       "      <td>14.1</td>\n",
       "    </tr>\n",
       "    <tr>\n",
       "      <th>h</th>\n",
       "      <td>49.0</td>\n",
       "      <td>1.659184</td>\n",
       "      <td>0.565287</td>\n",
       "      <td>0.4</td>\n",
       "      <td>1.3</td>\n",
       "      <td>1.6</td>\n",
       "      <td>2.0</td>\n",
       "      <td>3.6</td>\n",
       "    </tr>\n",
       "  </tbody>\n",
       "</table>\n",
       "</div>"
      ],
      "text/plain": [
       "      count       mean       std  min   25%   50%   75%   max\n",
       "Amp    49.0   4.922449  1.033252  2.5   4.5   5.0   5.5   6.5\n",
       "FreQ   49.0   1.736735  0.282617  1.0   1.6   1.8   2.0   2.3\n",
       "e      49.0  11.073469  2.185442  5.4  10.4  11.8  12.8  14.1\n",
       "h      49.0   1.659184  0.565287  0.4   1.3   1.6   2.0   3.6"
      ]
     },
     "execution_count": 3,
     "metadata": {},
     "output_type": "execute_result"
    }
   ],
   "source": [
    "df = df.drop(columns=[\"Layer\",\"Optimal\"], errors=\"ignore\")\n",
    "df = df.dropna(axis=0)\n",
    "df.describe().T"
   ]
  },
  {
   "cell_type": "code",
   "execution_count": 4,
   "id": "56d5329d",
   "metadata": {},
   "outputs": [
    {
     "name": "stdout",
     "output_type": "stream",
     "text": [
      "Cross-validation Average MAE: 0.7011167986375088\n",
      "MAE: 0.6340873029891176\n"
     ]
    }
   ],
   "source": [
    "from sklearn.model_selection import train_test_split\n",
    "from sklearn.linear_model import LinearRegression, LassoCV, Ridge\n",
    "from sklearn.preprocessing import StandardScaler\n",
    "from src.modeling.pipe_construct import PipeConstruct\n",
    "\n",
    "y=df[\"e\"]\n",
    "features = [\"Amp\",\"FreQ\"]\n",
    "X = df[features]\n",
    "\n",
    "X_train, X_test, y_train, y_test = train_test_split(X, y, \n",
    "                                                    train_size=0.8, \n",
    "                                                    test_size=0.2, \n",
    "                                                    random_state=13)\n",
    "pipe_linreg = PipeConstruct(\n",
    "    set_scaler=StandardScaler(),\n",
    "    set_model=LinearRegression()\n",
    ")\n",
    "\n",
    "pipe_linreg.cross_validation(X_train,y_train,cv=5)\n",
    "pipe_linreg.fit(X_train, y_train)\n",
    "pipe_linreg.mae(X_test,y_test)\n",
    "\n"
   ]
  },
  {
   "cell_type": "code",
   "execution_count": 5,
   "id": "aab3d89e",
   "metadata": {},
   "outputs": [
    {
     "name": "stdout",
     "output_type": "stream",
     "text": [
      "[13.24970587]\n"
     ]
    },
    {
     "name": "stderr",
     "output_type": "stream",
     "text": [
      "/Users/iplotnikow/WorkSpace/github.com/iaPlotnikovv/DS_Diploma/.venv/lib/python3.12/site-packages/sklearn/utils/validation.py:2749: UserWarning: X does not have valid feature names, but StandardScaler was fitted with feature names\n",
      "  warnings.warn(\n"
     ]
    }
   ],
   "source": [
    "print(pipe_linreg.predict([[5.5,1]]))\n"
   ]
  },
  {
   "cell_type": "code",
   "execution_count": 6,
   "id": "c5ee8e29",
   "metadata": {},
   "outputs": [
    {
     "name": "stdout",
     "output_type": "stream",
     "text": [
      "MAE: 0.6346209537796551\n"
     ]
    },
    {
     "data": {
      "text/plain": [
       "(array([ 1.82443149, -0.41575075]), np.float64(0.00183529332854413))"
      ]
     },
     "execution_count": 6,
     "metadata": {},
     "output_type": "execute_result"
    }
   ],
   "source": [
    "pipe_lasso = PipeConstruct(\n",
    "    set_scaler=StandardScaler(),\n",
    "    set_model=LassoCV(cv=5)\n",
    ")\n",
    "pipe_lasso.fit(X_train, y_train)\n",
    "pipe_lasso.mae(X_test,y_test)\n",
    "pipe_lasso.set_model.coef_, pipe_lasso.set_model.alpha_\n"
   ]
  },
  {
   "cell_type": "code",
   "execution_count": 7,
   "id": "d5eece17",
   "metadata": {},
   "outputs": [
    {
     "name": "stdout",
     "output_type": "stream",
     "text": [
      "Cross-validation Average MAE: 0.672796346905721\n",
      "MAE: 0.6412499340871296\n"
     ]
    },
    {
     "data": {
      "text/plain": [
       "array([ 1.8032137 , -0.41275498])"
      ]
     },
     "execution_count": 7,
     "metadata": {},
     "output_type": "execute_result"
    }
   ],
   "source": [
    "pipe_ridge = PipeConstruct(\n",
    "    set_scaler=StandardScaler(),\n",
    "    set_model=Ridge(alpha=0.5)\n",
    ")\n",
    "pipe_ridge.fit(X_train, y_train)\n",
    "pipe_ridge.cross_validation(X_train,y_train,cv=10)\n",
    "pipe_ridge.mae(X_test,y_test)\n",
    "pipe_ridge.set_model.coef_\n",
    "\n"
   ]
  },
  {
   "cell_type": "code",
   "execution_count": 8,
   "id": "ab766152",
   "metadata": {},
   "outputs": [
    {
     "name": "stdout",
     "output_type": "stream",
     "text": [
      "Cross-validation Average MAE: 0.8252052721088434\n",
      "MAE: 0.4657134920634915\n"
     ]
    }
   ],
   "source": [
    "from sklearn.ensemble import RandomForestRegressor\n",
    "pipe_rf = PipeConstruct(\n",
    "    set_scaler=StandardScaler(),\n",
    "    set_model=RandomForestRegressor(n_estimators=10, random_state=0)\n",
    ")\n",
    "\n",
    "pipe_rf.cross_validation(X_train,y_train,cv=5)\n",
    "pipe_rf.fit(X_train, y_train)\n",
    "pipe_rf.mae(X_test,y_test)"
   ]
  },
  {
   "cell_type": "code",
   "execution_count": null,
   "id": "429299cc",
   "metadata": {},
   "outputs": [],
   "source": [
    "from src.modeling.save_model import save_model\n",
    "\n",
    "save_model(pipe_linreg,\"regression.pkl\")"
   ]
  },
  {
   "cell_type": "code",
   "execution_count": null,
   "id": "97c63c7c",
   "metadata": {},
   "outputs": [],
   "source": []
  }
 ],
 "metadata": {
  "kernelspec": {
   "display_name": ".venv",
   "language": "python",
   "name": "python3"
  },
  "language_info": {
   "codemirror_mode": {
    "name": "ipython",
    "version": 3
   },
   "file_extension": ".py",
   "mimetype": "text/x-python",
   "name": "python",
   "nbconvert_exporter": "python",
   "pygments_lexer": "ipython3",
   "version": "3.12.8"
  }
 },
 "nbformat": 4,
 "nbformat_minor": 5
}
